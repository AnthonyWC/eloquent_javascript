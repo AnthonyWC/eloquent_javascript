{
 "cells": [
  {
   "cell_type": "code",
   "execution_count": 111,
   "metadata": {},
   "outputs": [
    {
     "name": "stdout",
     "output_type": "stream",
     "text": [
      "Reference error\n"
     ]
    }
   ],
   "source": [
    "// p.55\n",
    "\n",
    "function isInt(value) {\n",
    "    const er = /^(-?[1-9]+|-?\\d+\\.\\d+)$/;\n",
    "//   const er = /^((?!(0))(?=0\\.)*[1-9]*$)/;\n",
    "//   const er = /^[0\\.]*[1-9]*[\\b\\.([0-9])]*$/;\n",
    "  return ((typeof value === 'number') && (er.test(value)));\n",
    "}\n",
    "\n",
    "function getmin(i, j) {\n",
    "    if (isInt(i) && isInt(j)) {\n",
    "        return Math.min(i, j);\n",
    "    } else {\n",
    "        return false;\n",
    "    }\n",
    "}\n",
    "\n",
    "try {\n",
    "    getmin(-0.61, lolo);\n",
    "} catch(err) {\n",
    "    if (err instanceof ReferenceError) {\n",
    "        console.log(\"Reference error\");\n",
    "    }\n",
    "}\n",
    "// console.log(isInt(0801));\n",
    "// console.log(isInt(0.));\n",
    "// // console.log(isInt(00.07));\n",
    "// console.log(\"**************\");\n",
    "// console.log(isInt(0.1));\n",
    "// console.log(isInt(-0.1));\n",
    "// console.log(isInt(-1));\n",
    "// console.log(isInt(0.333));\n",
    "// console.log(isInt(1.0));\n",
    "// console.log(isInt(6));\n",
    "// console.log(isInt(16));"
   ]
  },
  {
   "cell_type": "code",
   "execution_count": 93,
   "metadata": {},
   "outputs": [
    {
     "data": {
      "text/plain": [
       "-1.6"
      ]
     },
     "execution_count": 93,
     "metadata": {},
     "output_type": "execute_result"
    }
   ],
   "source": [
    "Math.min(-1.6, 8);"
   ]
  },
  {
   "cell_type": "code",
   "execution_count": null,
   "metadata": {},
   "outputs": [],
   "source": []
  }
 ],
 "metadata": {
  "kernelspec": {
   "display_name": "Javascript (Node.js)",
   "language": "javascript",
   "name": "javascript"
  },
  "language_info": {
   "file_extension": ".js",
   "mimetype": "application/javascript",
   "name": "javascript",
   "version": "8.10.0"
  }
 },
 "nbformat": 4,
 "nbformat_minor": 2
}
