{
 "cells": [
  {
   "cell_type": "code",
   "execution_count": 110,
   "metadata": {},
   "outputs": [
    {
     "name": "stdout",
     "output_type": "stream",
     "text": [
      "Reference error\n",
      "ReferenceError: lolo is not defined\n",
      "    at evalmachine.<anonymous>:19:24\n",
      "    at ContextifyScript.Script.runInThisContext (vm.js:50:33)\n",
      "    at Object.runInThisContext (vm.js:139:38)\n",
      "    at run ([eval]:1002:15)\n",
      "    at onRunRequest ([eval]:829:18)\n",
      "    at onMessage ([eval]:789:13)\n",
      "    at emitTwo (events.js:126:13)\n",
      "    at process.emit (events.js:214:7)\n",
      "    at emit (internal/child_process.js:772:12)\n",
      "    at _combinedTickCallback (internal/process/next_tick.js:141:11)\n"
     ]
    }
   ],
   "source": [
    "// p.55\n",
    "\n",
    "function isInt(value) {\n",
    "    const er = /^(-?[1-9]+|-?\\d+\\.\\d+)$/;\n",
    "//   const er = /^((?!(0))(?=0\\.)*[1-9]*$)/;\n",
    "//   const er = /^[0\\.]*[1-9]*[\\b\\.([0-9])]*$/;\n",
    "  return ((typeof value === 'number') && (er.test(value)));\n",
    "}\n",
    "\n",
    "function getmin(i, j) {\n",
    "    if (isInt(i) && isInt(j)) {\n",
    "        return Math.min(i, j);\n",
    "    } else {\n",
    "        return false;\n",
    "    }\n",
    "}\n",
    "\n",
    "try {\n",
    "    eval(getmin(-0.61, lolo));\n",
    "} catch(err) {\n",
    "    if (err instanceof ReferenceError) {\n",
    "        console.log(\"Reference error\");\n",
    "    }\n",
    "}\n",
    "// console.log(isInt(0801));\n",
    "// console.log(isInt(0.));\n",
    "// // console.log(isInt(00.07));\n",
    "// console.log(\"**************\");\n",
    "// console.log(isInt(0.1));\n",
    "// console.log(isInt(-0.1));\n",
    "// console.log(isInt(-1));\n",
    "// console.log(isInt(0.333));\n",
    "// console.log(isInt(1.0));\n",
    "// console.log(isInt(6));\n",
    "// console.log(isInt(16));"
   ]
  },
  {
   "cell_type": "code",
   "execution_count": 93,
   "metadata": {},
   "outputs": [
    {
     "data": {
      "text/plain": [
       "-1.6"
      ]
     },
     "execution_count": 93,
     "metadata": {},
     "output_type": "execute_result"
    }
   ],
   "source": [
    "Math.min(-1.6, 8);"
   ]
  },
  {
   "cell_type": "code",
   "execution_count": null,
   "metadata": {},
   "outputs": [],
   "source": []
  }
 ],
 "metadata": {
  "kernelspec": {
   "display_name": "Javascript (Node.js)",
   "language": "javascript",
   "name": "javascript"
  },
  "language_info": {
   "file_extension": ".js",
   "mimetype": "application/javascript",
   "name": "javascript",
   "version": "8.10.0"
  }
 },
 "nbformat": 4,
 "nbformat_minor": 2
}
