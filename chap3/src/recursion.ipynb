{
 "cells": [
  {
   "cell_type": "code",
   "execution_count": 10,
   "metadata": {},
   "outputs": [
    {
     "ename": "RangeError",
     "evalue": "Maximum call stack size exceeded",
     "output_type": "error",
     "traceback": [
      "evalmachine.<anonymous>:3",
      "function isEven(x) {",
      "               ^",
      "",
      "RangeError: Maximum call stack size exceeded",
      "    at isEven (evalmachine.<anonymous>:3:16)",
      "    at isEven (evalmachine.<anonymous>:9:12)",
      "    at isEven (evalmachine.<anonymous>:9:12)",
      "    at isEven (evalmachine.<anonymous>:9:12)",
      "    at isEven (evalmachine.<anonymous>:9:12)",
      "    at isEven (evalmachine.<anonymous>:9:12)",
      "    at isEven (evalmachine.<anonymous>:9:12)",
      "    at isEven (evalmachine.<anonymous>:9:12)",
      "    at isEven (evalmachine.<anonymous>:9:12)",
      "    at isEven (evalmachine.<anonymous>:9:12)"
     ]
    }
   ],
   "source": [
    "// Note: function checkparity (x, y = 2) {\n",
    "// To generalize to y > 2\n",
    "function isEven(x) {\n",
    "  if (x === 0) { \n",
    "    return true;\n",
    "  } else if (x === 1) {\n",
    "    return false;\n",
    "  } else {\n",
    "    return isEven(x - 2);\n",
    "  }\n",
    "}\n",
    "\n",
    "isEven(-1);"
   ]
  },
  {
   "cell_type": "code",
   "execution_count": 131,
   "metadata": {},
   "outputs": [
    {
     "name": "stdout",
     "output_type": "stream",
     "text": [
      "non-integer\n"
     ]
    }
   ],
   "source": [
    "// condition ? Tvalue : Fvalue\n",
    "var isPos = x => { \n",
    "  const er = /^([1-9]+|\\d+)$/;\n",
    "  return er.test(x)\n",
    "//   return ((typeof x === 'number') && er.test(x))\n",
    "    ? true\n",
    "    : false\n",
    "//   return (typeof x === 'number') && (er.test(x));\n",
    "}\n",
    "\n",
    "var checkInt = x => { \n",
    "  const reg1 = /^(-?[1-9]+|-?\\d+)$/;\n",
    "  const reg2 = /^([1-9]+|\\d+)$/;\n",
    "  return ((typeof x === 'number') && reg1.test(x))\n",
    "    ? (reg2.test(x))\n",
    "        ? x\n",
    "        : -x\n",
    "    : false\n",
    "}\n",
    "\n",
    "var isInt = x => { \n",
    "  const er = /^(-?[1-9]+|-?\\d+)$/;\n",
    "  return ((typeof x === 'number') && er.test(x))\n",
    "    ? true\n",
    "    : false\n",
    "//   return (typeof x === 'number') && (er.test(x));\n",
    "}\n",
    "\n",
    "\n",
    "var isEven = x => { \n",
    "   return (x === 0) \n",
    "    ? true\n",
    "    : (x === 1)\n",
    "    ? false\n",
    "    : isEven(x -2)\n",
    "}\n",
    "\n",
    "function main (x) {\n",
    "    if (isInt(x)) {\n",
    "        if (!(isPos(x))) {\n",
    "            x = -x;\n",
    "        } \n",
    "    } else {\n",
    "        console.log(\"Non positive/negative integer input\");\n",
    "    }\n",
    "    \n",
    "    console.log(x);\n",
    "    return isEven(x);\n",
    "}\n",
    "\n",
    "function main2 (x) {\n",
    "    x = checkInt(x);\n",
    "    if (x) {\n",
    "        return isEven(x);\n",
    "    } else {\n",
    "        console.log(\"non-integer\");\n",
    "    }\n",
    "}\n",
    "\n",
    "var main3 = x => {\n",
    "    x = checkInt(x);\n",
    "    return (x)\n",
    "    ? isEven(x)\n",
    "    : console.log(\"non-integer\")\n",
    "}\n",
    "\n",
    "// isInt(-10);\n",
    "// isEven(-1);\n",
    "main3(-1.4);\n",
    "// checkInt(-12);"
   ]
  },
  {
   "cell_type": "code",
   "execution_count": 41,
   "metadata": {},
   "outputs": [
    {
     "data": {
      "text/plain": [
       "-10"
      ]
     },
     "execution_count": 41,
     "metadata": {},
     "output_type": "execute_result"
    }
   ],
   "source": [
    "var x = 10;\n",
    "x = -x;"
   ]
  }
 ],
 "metadata": {
  "kernelspec": {
   "display_name": "Javascript (Node.js)",
   "language": "javascript",
   "name": "javascript"
  },
  "language_info": {
   "file_extension": ".js",
   "mimetype": "application/javascript",
   "name": "javascript",
   "version": "8.10.0"
  }
 },
 "nbformat": 4,
 "nbformat_minor": 2
}
