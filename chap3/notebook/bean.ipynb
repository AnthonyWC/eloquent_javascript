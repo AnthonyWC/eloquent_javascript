{
 "cells": [
  {
   "cell_type": "code",
   "execution_count": 19,
   "metadata": {},
   "outputs": [
    {
     "name": "stdout",
     "output_type": "stream",
     "text": [
      "1\n",
      "0\n"
     ]
    }
   ],
   "source": [
    "var countChar = (l, match = 'B') => {\n",
    "    if ((typeof l === 'string') && (typeof match === 'string')) {\n",
    "        let string = l.split('');\n",
    "        let count = 0;\n",
    "        string.forEach((v) => {\n",
    "            if (v === match) {\n",
    "                count += 1;\n",
    "            }\n",
    "        })\n",
    "        return count;\n",
    "    } else {\n",
    "        return false;\n",
    "    }\n",
    "}\n",
    "var countBs = countChar;\n",
    "console.log(countBs('B66oooasfasf'));\n",
    "console.log(countChar('B66oooasfasf', 'A'));"
   ]
  },
  {
   "cell_type": "code",
   "execution_count": 4,
   "metadata": {},
   "outputs": [
    {
     "name": "stdout",
     "output_type": "stream",
     "text": [
      "j\n",
      "a\n",
      "v\n",
      "a\n",
      "s\n",
      "c\n",
      "r\n",
      "i\n",
      "p\n",
      "t\n"
     ]
    },
    {
     "data": {
      "text/plain": [
       "[ undefined,\n",
       "  undefined,\n",
       "  undefined,\n",
       "  undefined,\n",
       "  undefined,\n",
       "  undefined,\n",
       "  undefined,\n",
       "  undefined,\n",
       "  undefined,\n",
       "  undefined ]"
      ]
     },
     "execution_count": 4,
     "metadata": {},
     "output_type": "execute_result"
    }
   ],
   "source": [
    "var test = 'javascript'.split('');\n",
    "test.map((i) => (console.log(i)));"
   ]
  },
  {
   "cell_type": "code",
   "execution_count": 5,
   "metadata": {},
   "outputs": [
    {
     "data": {
      "text/plain": [
       "[ 1, 4, 9 ]"
      ]
     },
     "execution_count": 5,
     "metadata": {},
     "output_type": "execute_result"
    }
   ],
   "source": [
    "var x = [1, 2 ,3];\n",
    "x.map((i) => (i * i));"
   ]
  },
  {
   "cell_type": "code",
   "execution_count": 6,
   "metadata": {},
   "outputs": [
    {
     "name": "stdout",
     "output_type": "stream",
     "text": [
      "Hi\n"
     ]
    }
   ],
   "source": [
    "(() => console.log('Hi'))()"
   ]
  },
  {
   "cell_type": "code",
   "execution_count": 7,
   "metadata": {},
   "outputs": [
    {
     "name": "stdout",
     "output_type": "stream",
     "text": [
      "2\n"
     ]
    }
   ],
   "source": [
    "var y = \"foo\";\n",
    "var string = y.split('');\n",
    "// var string = y.split(/(?!$)/u);\n",
    "\n",
    "var count = 0;\n",
    "\n",
    "// string.forEach(function (v){\n",
    "//     if (v === 'o') {\n",
    "//         count += 1;\n",
    "//     }\n",
    "// })\n",
    "\n",
    "string.forEach((v) => {\n",
    "    if (v === 'o') {\n",
    "        count += 1;\n",
    "    }\n",
    "})\n",
    "\n",
    "console.log(count);"
   ]
  },
  {
   "cell_type": "code",
   "execution_count": 19,
   "metadata": {},
   "outputs": [
    {
     "name": "stdout",
     "output_type": "stream",
     "text": [
      "2\n",
      "10\n"
     ]
    }
   ],
   "source": [
    "function mult(f) {\n",
    "     console.log(f);\n",
    "    return num => num * f;\n",
    "}\n",
    "\n",
    "var twice = mult(2);\n",
    "// console.log(twice.prototype.constructor);\n",
    "// console.log(Object.getOwnPropertyNames(twice));\n",
    "// console.log(Object.getOwnPropertyNames(twice).filter(function (p) {\n",
    "//     return typeof twice[p] === 'function';\n",
    "// }));\n",
    "\n",
    "// twice = num * f\n",
    "console.log(twice(5));"
   ]
  }
 ],
 "metadata": {
  "kernelspec": {
   "display_name": "Javascript (Node.js)",
   "language": "javascript",
   "name": "javascript"
  },
  "language_info": {
   "file_extension": ".js",
   "mimetype": "application/javascript",
   "name": "javascript",
   "version": "8.10.0"
  }
 },
 "nbformat": 4,
 "nbformat_minor": 2
}
