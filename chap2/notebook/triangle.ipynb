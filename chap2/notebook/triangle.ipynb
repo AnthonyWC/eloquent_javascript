{
 "cells": [
  {
   "cell_type": "code",
   "execution_count": 13,
   "metadata": {},
   "outputs": [
    {
     "name": "stdout",
     "output_type": "stream",
     "text": [
      "#\n",
      "##\n",
      "###\n",
      "####\n",
      "#####\n",
      "######\n",
      "#######\n"
     ]
    }
   ],
   "source": [
    "function draw(k) {\n",
    "    var square = \"#\";\n",
    "\n",
    "    while (square.length <= k) {\n",
    "        console.log(square);\n",
    "        square += \"#\";\n",
    "    }\n",
    "}\n",
    "\n",
    "draw(7)"
   ]
  },
  {
   "cell_type": "code",
   "execution_count": 7,
   "metadata": {},
   "outputs": [
    {
     "data": {
      "text/plain": [
       "true"
      ]
     },
     "execution_count": 7,
     "metadata": {},
     "output_type": "execute_result"
    }
   ],
   "source": [
    "circle = \"###\"\n",
    "circle.length === 3"
   ]
  },
  {
   "cell_type": "code",
   "execution_count": 3,
   "metadata": {},
   "outputs": [
    {
     "name": "stdout",
     "output_type": "stream",
     "text": [
      "#\n",
      "##\n",
      "###\n",
      "####\n",
      "#####\n",
      "######\n",
      "#######\n"
     ]
    }
   ],
   "source": [
    "var draw = (k) => {\n",
    "   var square = \"#\";\n",
    "\n",
    "    while (square.length <= k) {\n",
    "        console.log(square);\n",
    "        square += \"#\";\n",
    "    } \n",
    "}\n",
    "\n",
    "draw(7)"
   ]
  },
  {
   "cell_type": "code",
   "execution_count": 14,
   "metadata": {
    "code_folding": []
   },
   "outputs": [
    {
     "name": "stdout",
     "output_type": "stream",
     "text": [
      "#\n",
      "##\n",
      "###\n",
      "####\n",
      "#####\n",
      "######\n",
      "#######\n"
     ]
    }
   ],
   "source": [
    "// recursion \n",
    "// 1, 7\n",
    "function draw(n, k) {\n",
    "    var square = \"#\"; \n",
    "    console.log(square.repeat(n));\n",
    "    // k = 2     \n",
    "    if (n < k) {\n",
    "       draw(n + 1, k); \n",
    "    }\n",
    "}\n",
    "\n",
    "draw(1, 7)"
   ]
  },
  {
   "cell_type": "code",
   "execution_count": 4,
   "metadata": {},
   "outputs": [
    {
     "name": "stdout",
     "output_type": "stream",
     "text": [
      "#\n",
      "##\n",
      "###\n",
      "####\n",
      "#####\n",
      "######\n",
      "#######\n"
     ]
    }
   ],
   "source": [
    "var draw = (n, k) => {\n",
    "    var square = \"#\"; \n",
    "    console.log(square.repeat(n));\n",
    "    // k = 2     \n",
    "    if (n < k) {\n",
    "       draw(n + 1, k); \n",
    "    } \n",
    "}\n",
    "\n",
    "draw(1, 7)"
   ]
  }
 ],
 "metadata": {
  "kernelspec": {
   "display_name": "Javascript (Node.js)",
   "language": "javascript",
   "name": "javascript"
  },
  "language_info": {
   "file_extension": ".js",
   "mimetype": "application/javascript",
   "name": "javascript",
   "version": "8.10.0"
  }
 },
 "nbformat": 4,
 "nbformat_minor": 2
}
