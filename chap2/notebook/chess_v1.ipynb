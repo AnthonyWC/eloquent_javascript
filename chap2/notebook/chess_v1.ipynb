{
 "cells": [
  {
   "cell_type": "code",
   "execution_count": 152,
   "metadata": {},
   "outputs": [
    {
     "name": "stdout",
     "output_type": "stream",
     "text": [
      "| # # # #|\n",
      "|# # # # |\n",
      "| # # # #|\n",
      "|# # # # |\n",
      "| # # # #|\n",
      "|# # # # |\n",
      "| # # # #|\n",
      "|# # # # |\n",
      "\n"
     ]
    }
   ],
   "source": [
    "function isInt(value) {\n",
    "    var er = /^[1-9][0-9]*$/;\n",
    "    return ((typeof value ==='number') && (er.test(value)));\n",
    "}\n",
    "\n",
    "function chess(l, w) {\n",
    "    \n",
    "    if (!(isInt(l) && isInt(w))) {\n",
    "        console.log(\"Must input positve integer\");\n",
    "        return;\n",
    "    } \n",
    "    \n",
    "    var div = Math.floor(w / 2);\n",
    "    var rem = w % 2; \n",
    "    var odd_line  = \"|\" + \" #\".repeat(div) + \" \".repeat(rem) + \"|\\n\";\n",
    "    var even_line = \"|\" + \"# \".repeat(div) + \"#\".repeat(rem) + \"|\\n\";\n",
    "    line = \"\";\n",
    "    \n",
    "    for (i = 1; i <= l; i++) {\n",
    "        if (i % 2 == 1) {\n",
    "            line += odd_line;\n",
    "        } else {\n",
    "            line += even_line;\n",
    "        }\n",
    "    }\n",
    "    \n",
    "    return line;\n",
    "}\n",
    "    \n",
    "console.log(chess(8, 8));"
   ]
  },
  {
   "cell_type": "code",
   "execution_count": 126,
   "metadata": {},
   "outputs": [
    {
     "data": {
      "text/plain": [
       "0"
      ]
     },
     "execution_count": 126,
     "metadata": {},
     "output_type": "execute_result"
    }
   ],
   "source": [
    "Math.floor(1 / 2); "
   ]
  },
  {
   "cell_type": "code",
   "execution_count": 137,
   "metadata": {},
   "outputs": [
    {
     "data": {
      "text/plain": [
       "1"
      ]
     },
     "execution_count": 137,
     "metadata": {},
     "output_type": "execute_result"
    }
   ],
   "source": [
    "13 % 2 "
   ]
  },
  {
   "cell_type": "code",
   "execution_count": 150,
   "metadata": {},
   "outputs": [
    {
     "name": "stdout",
     "output_type": "stream",
     "text": [
      "odd:  1\n",
      "even: 2\n",
      "odd:  3\n",
      "even: 4\n",
      "odd:  5\n",
      " # # # # \n",
      "# # # # \n",
      " # # # # \n",
      "# # # # \n",
      " # # # # \n",
      "\n"
     ]
    }
   ],
   "source": [
    "var odd_line  = \" # # # # \\n\"\n",
    "var even_line = \"# # # # \\n\"\n",
    "var line = \"\";\n",
    "\n",
    "for (i = 1; i <= 5; i++) {\n",
    "    if (i % 2 == 1) {\n",
    "        console.log(\"odd:  \" + i);\n",
    "        line += odd_line;\n",
    "    } else {\n",
    "        console.log(\"even: \" + i);\n",
    "        line += even_line;\n",
    "    }\n",
    "}\n",
    "\n",
    "console.log(line);"
   ]
  },
  {
   "cell_type": "code",
   "execution_count": 29,
   "metadata": {},
   "outputs": [
    {
     "name": "stdout",
     "output_type": "stream",
     "text": [
      "Integer\n"
     ]
    }
   ],
   "source": [
    "var data = 3.14;\n",
    "\n",
    "if (Number.parseInt(data)) {\n",
    "    console.log(\"Integer\")\n",
    " } else {\n",
    "     console.log(\"Not integer\")\n",
    " }"
   ]
  },
  {
   "cell_type": "code",
   "execution_count": 30,
   "metadata": {},
   "outputs": [
    {
     "data": {
      "text/plain": [
       "1"
      ]
     },
     "execution_count": 30,
     "metadata": {},
     "output_type": "execute_result"
    }
   ],
   "source": [
    "Number.parseInt(1)"
   ]
  },
  {
   "cell_type": "code",
   "execution_count": 49,
   "metadata": {},
   "outputs": [
    {
     "data": {
      "text/plain": [
       "false"
      ]
     },
     "execution_count": 49,
     "metadata": {},
     "output_type": "execute_result"
    }
   ],
   "source": [
    "function isInt(value) {\n",
    "    var er = /^-?[0-9]+$/;\n",
    "    return ((typeof value ==='number') && (er.test(value)));\n",
    "}\n",
    "\n",
    "isInt(\"4\");"
   ]
  },
  {
   "cell_type": "code",
   "execution_count": 40,
   "metadata": {},
   "outputs": [
    {
     "data": {
      "text/plain": [
       "'number'"
      ]
     },
     "execution_count": 40,
     "metadata": {},
     "output_type": "execute_result"
    }
   ],
   "source": []
  },
  {
   "cell_type": "code",
   "execution_count": 68,
   "metadata": {},
   "outputs": [
    {
     "name": "stdout",
     "output_type": "stream",
     "text": [
      "bar\n"
     ]
    }
   ],
   "source": [
    "function foo(i) {\n",
    "    if (!(i > 1)) {\n",
    "        console.log('bar');\n",
    "    }\n",
    "}00000000\n",
    "\n",
    "foo('hi');"
   ]
  },
  {
   "cell_type": "code",
   "execution_count": 62,
   "metadata": {},
   "outputs": [
    {
     "name": "stdout",
     "output_type": "stream",
     "text": [
      "true\n"
     ]
    }
   ],
   "source": []
  },
  {
   "cell_type": "code",
   "execution_count": 76,
   "metadata": {},
   "outputs": [
    {
     "data": {
      "text/plain": [
       "true"
      ]
     },
     "execution_count": 76,
     "metadata": {},
     "output_type": "execute_result"
    }
   ],
   "source": [
    "function isInt(value) {\n",
    "    var er = /^[0-9]+$/;\n",
    "    return er.test(value);\n",
    "}\n",
    "\n",
    "isInt(011);"
   ]
  },
  {
   "cell_type": "code",
   "execution_count": 92,
   "metadata": {},
   "outputs": [
    {
     "data": {
      "text/plain": [
       "'number'"
      ]
     },
     "execution_count": 92,
     "metadata": {},
     "output_type": "execute_result"
    }
   ],
   "source": [
    "typeof(010)"
   ]
  },
  {
   "cell_type": "code",
   "execution_count": 105,
   "metadata": {},
   "outputs": [
    {
     "ename": "SyntaxError",
     "evalue": "Invalid or unexpected token",
     "output_type": "error",
     "traceback": [
      "evalmachine.<anonymous>:1",
      "typeof(50a)",
      "       ^^",
      "",
      "SyntaxError: Invalid or unexpected token",
      "    at createScript (vm.js:80:10)",
      "    at Object.runInThisContext (vm.js:139:10)",
      "    at run ([eval]:1002:15)",
      "    at onRunRequest ([eval]:829:18)",
      "    at onMessage ([eval]:789:13)",
      "    at emitTwo (events.js:126:13)",
      "    at process.emit (events.js:214:7)",
      "    at emit (internal/child_process.js:772:12)",
      "    at _combinedTickCallback (internal/process/next_tick.js:141:11)",
      "    at process._tickCallback (internal/process/next_tick.js:180:9)"
     ]
    }
   ],
   "source": [
    "typeof(50a)"
   ]
  }
 ],
 "metadata": {
  "kernelspec": {
   "display_name": "Javascript (Node.js)",
   "language": "javascript",
   "name": "javascript"
  },
  "language_info": {
   "file_extension": ".js",
   "mimetype": "application/javascript",
   "name": "javascript",
   "version": "8.10.0"
  }
 },
 "nbformat": 4,
 "nbformat_minor": 2
}
