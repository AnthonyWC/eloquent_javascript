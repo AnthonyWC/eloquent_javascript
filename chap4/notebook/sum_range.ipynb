{
 "cells": [
  {
   "cell_type": "code",
   "execution_count": 22,
   "metadata": {},
   "outputs": [
    {
     "data": {
      "text/plain": [
       "[ 3, 4 ]"
      ]
     },
     "execution_count": 22,
     "metadata": {},
     "output_type": "execute_result"
    }
   ],
   "source": [
    "var n = 3;\n",
    "var m = 4;\n",
    "var varlist = [n, m];\n",
    "varlist"
   ]
  },
  {
   "cell_type": "code",
   "execution_count": 14,
   "metadata": {},
   "outputs": [
    {
     "name": "stdout",
     "output_type": "stream",
     "text": [
      "BMW\n",
      "Volvo\n",
      "Saab\n",
      "Ford\n"
     ]
    },
    {
     "data": {
      "text/plain": [
       "3"
      ]
     },
     "execution_count": 14,
     "metadata": {},
     "output_type": "execute_result"
    }
   ],
   "source": [
    "var cars = [\"BMW\", \"Volvo\", \"Saab\", \"Ford\"];\n",
    "var i = 0;\n",
    "\n",
    "while (cars[i]) {\n",
    "    console.log(cars[i]);\n",
    "    i++;\n",
    "}"
   ]
  },
  {
   "cell_type": "code",
   "execution_count": 21,
   "metadata": {},
   "outputs": [
    {
     "name": "stdout",
     "output_type": "stream",
     "text": [
      "2\n",
      "3\n",
      "4\n"
     ]
    },
    {
     "data": {
      "text/plain": [
       "[ 2, 3, 4 ]"
      ]
     },
     "execution_count": 21,
     "metadata": {},
     "output_type": "execute_result"
    }
   ],
   "source": [
    "var x = 2, y = 5;\n",
    "var arr = [];\n",
    "for (i = x; i < y; i++) {\n",
    "    console.log(i);\n",
    "    arr.push(i);\n",
    "}\n",
    "\n",
    "arr;"
   ]
  },
  {
   "cell_type": "code",
   "execution_count": 5,
   "metadata": {},
   "outputs": [
    {
     "data": {
      "text/plain": [
       "[ 1, 2, 3, 4, 5 ]"
      ]
     },
     "execution_count": 5,
     "metadata": {},
     "output_type": "execute_result"
    }
   ],
   "source": [
    "function range(m, n) {\n",
    "    var arr = [];\n",
    "    for (i = m; i <= n; i++) {\n",
    "        arr.push(i);\n",
    "    }\n",
    "    return arr;\n",
    "}\n",
    "\n",
    "var arr2 = range(1, 5);\n",
    "arr2;"
   ]
  },
  {
   "cell_type": "code",
   "execution_count": 8,
   "metadata": {},
   "outputs": [
    {
     "data": {
      "text/plain": [
       "15"
      ]
     },
     "execution_count": 8,
     "metadata": {},
     "output_type": "execute_result"
    }
   ],
   "source": [
    "function sum(array) {\n",
    "    var total = 0\n",
    "    array.forEach(function (i) {\n",
    "       total += i;\n",
    "   }); \n",
    "    return total;\n",
    "}\n",
    "\n",
    "sum(arr2);"
   ]
  },
  {
   "cell_type": "code",
   "execution_count": 18,
   "metadata": {},
   "outputs": [
    {
     "data": {
      "text/plain": [
       "15"
      ]
     },
     "execution_count": 18,
     "metadata": {},
     "output_type": "execute_result"
    }
   ],
   "source": [
    "var range2 = (m, n) => {\n",
    "    var arr = [];\n",
    "    while (m <= n) {\n",
    "        arr.push(m);\n",
    "        m += 1;\n",
    "    }\n",
    "    return arr;\n",
    "}\n",
    "\n",
    "var sum2 = (array) => {\n",
    "    var total = 0\n",
    "    array.forEach(i => total += i);\n",
    "    return total;\n",
    "}\n",
    "\n",
    "arr3 = range2(1, 5);\n",
    "// sum2(range(1, 5));\n",
    "arr3;\n",
    "sum2(arr3);"
   ]
  },
  {
   "cell_type": "code",
   "execution_count": null,
   "metadata": {},
   "outputs": [],
   "source": []
  }
 ],
 "metadata": {
  "kernelspec": {
   "display_name": "Javascript (Node.js)",
   "language": "javascript",
   "name": "javascript"
  },
  "language_info": {
   "file_extension": ".js",
   "mimetype": "application/javascript",
   "name": "javascript",
   "version": "8.10.0"
  }
 },
 "nbformat": 4,
 "nbformat_minor": 2
}
