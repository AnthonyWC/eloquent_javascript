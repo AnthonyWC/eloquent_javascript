{
 "cells": [
  {
   "cell_type": "code",
   "execution_count": null,
   "metadata": {},
   "outputs": [],
   "source": [
    "var list = {\n",
    "    value: 1, \n",
    "    next: {\n",
    "        value: 2,\n",
    "        next: {\n",
    "            value: 3,\n",
    "            next: null\n",
    "        }\n",
    "        \n",
    "    }\n",
    "};\n",
    "\n",
    "console.log(list.next.next.value);"
   ]
  },
  {
   "cell_type": "code",
   "execution_count": null,
   "metadata": {},
   "outputs": [],
   "source": [
    "// single linked list with head (single node)\n",
    "// https://codeburst.io/js-data-structures-linked-list-3ed4d63e6571\n",
    "class SingleLLink {\n",
    "    constructor(value) {\n",
    "        // 2 properties\n",
    "        this.head = {\n",
    "            value,\n",
    "            next: null\n",
    "        };\n",
    "        this.length = 1;\n",
    "    }\n",
    "}\n",
    "\n",
    "var link1 = new SingleLLink('Hello');"
   ]
  },
  {
   "cell_type": "code",
   "execution_count": null,
   "metadata": {},
   "outputs": [],
   "source": [
    "link1.head.value;"
   ]
  },
  {
   "cell_type": "code",
   "execution_count": null,
   "metadata": {},
   "outputs": [],
   "source": [
    "link1.length;"
   ]
  },
  {
   "cell_type": "code",
   "execution_count": 2,
   "metadata": {},
   "outputs": [
    {
     "name": "stdout",
     "output_type": "stream",
     "text": [
      "initialize length\n"
     ]
    }
   ],
   "source": [
    "// single linked list with head (add to multi-node)\n",
    "class LinkedLink {\n",
    "    constructor(value) {\n",
    "        // 3 properties\n",
    "        this.head = null;\n",
    "        console.log('initialize length')\n",
    "        this.length = 0;\n",
    "        this.addNode(value);\n",
    "    }\n",
    "    \n",
    "    addNode(value) {\n",
    "        var newNode = { value };\n",
    "        newNode.next = this.head;\n",
    "        this.head = newNode;\n",
    "        // add to length\n",
    "        this.length++;\n",
    "        return this;\n",
    "    }\n",
    "}\n",
    "\n",
    "var link3 = new LinkedLink('first');"
   ]
  },
  {
   "cell_type": "code",
   "execution_count": 4,
   "metadata": {},
   "outputs": [
    {
     "data": {
      "text/plain": [
       "LinkedLink { head: { value: 'first', next: null }, length: 1 }"
      ]
     },
     "execution_count": 4,
     "metadata": {},
     "output_type": "execute_result"
    }
   ],
   "source": [
    "link3;"
   ]
  },
  {
   "cell_type": "code",
   "execution_count": null,
   "metadata": {},
   "outputs": [],
   "source": [
    "link2.addNode('second');"
   ]
  }
 ],
 "metadata": {
  "kernelspec": {
   "display_name": "Javascript (Node.js)",
   "language": "javascript",
   "name": "javascript"
  },
  "language_info": {
   "file_extension": ".js",
   "mimetype": "application/javascript",
   "name": "javascript",
   "version": "8.10.0"
  }
 },
 "nbformat": 4,
 "nbformat_minor": 2
}
