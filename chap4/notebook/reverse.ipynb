{
 "cells": [
  {
   "cell_type": "code",
   "execution_count": 5,
   "metadata": {
    "scrolled": true
   },
   "outputs": [
    {
     "name": "stdout",
     "output_type": "stream",
     "text": [
      "array1:  [ 1, 2, 3, 4, 5 ]\n",
      "1\n",
      "2\n",
      "3\n",
      "4\n",
      "5\n"
     ]
    },
    {
     "data": {
      "text/plain": [
       "[ 5, 4, 3, 2, 1 ]"
      ]
     },
     "execution_count": 5,
     "metadata": {},
     "output_type": "execute_result"
    }
   ],
   "source": [
    "var array1 = [1, 2, 3, 4, 5];\n",
    "console.log('array1: ', array1);\n",
    "\n",
    "array2 = [];\n",
    "array1.forEach(i => {\n",
    "    console.log(i);\n",
    "    array2.unshift(i);\n",
    "});\n",
    "\n",
    "array2;\n",
    "\n",
    "var lastE = array1.pop();\n",
    "console.log(lastE);\n",
    "\n",
    "array2 = [];\n",
    "array1.forEach(i => {\n",
    "    console.log(i);\n",
    "    // add element to array2 to beginning\n",
    "    array2.unshift(i);\n",
    "});\n",
    "\n",
    "array2;\n",
    "\n",
    "var array3 = [1, 2 ,3 ,4];\n",
    "// array3.pop();\n",
    "\n",
    "// array3.forEach(i => {\n",
    "// for (var i of array3) { \n",
    "//    console.log(array3);\n",
    "//    console.log(i); \n",
    "//    array3.unshift(array3.pop());\n",
    "//    console.log('new array: ' + array3);\n",
    "// })\n",
    "\n",
    "function rev(a) {\n",
    "//    for (let i = 0; i < a.length; i++) {\n",
    "  for (let [i, v] of a.entries()) {\n",
    "//      console.log(i);\n",
    "     a.splice(i, 0, a.pop());\n",
    "//      console.log(a);\n",
    "   }\n",
    "   return a;\n",
    "};\n",
    "\n",
    "rev([1, 2, 3, 4, 5, 6, 7]);"
   ]
  },
  {
   "cell_type": "code",
   "execution_count": 22,
   "metadata": {},
   "outputs": [
    {
     "data": {
      "text/plain": [
       "[ 3, 2, 1 ]"
      ]
     },
     "execution_count": 22,
     "metadata": {},
     "output_type": "execute_result"
    }
   ],
   "source": [
    "rev1 = (a) => {\n",
    "    for (let [i, v] of a.entries()) {\n",
    "        a.splice(i, 0, a.pop());\n",
    "    }\n",
    "    return a;\n",
    "}\n",
    "\n",
    "rev1([1,2,3]);"
   ]
  },
  {
   "cell_type": "code",
   "execution_count": null,
   "metadata": {},
   "outputs": [],
   "source": [
    "/*\n",
    "[1, 2, 3] => [3, 1, 2] => [3, 2, 1]\n",
    "\n",
    "[1, 2, 3, 4] => [4, 1, 2, 3] => [4, 3, 1, 2] => [4, 3 ,2, 1]\n",
    "\n",
    "*/"
   ]
  }
 ],
 "metadata": {
  "kernelspec": {
   "display_name": "Javascript (Node.js)",
   "language": "javascript",
   "name": "javascript"
  },
  "language_info": {
   "file_extension": ".js",
   "mimetype": "application/javascript",
   "name": "javascript",
   "version": "8.10.0"
  }
 },
 "nbformat": 4,
 "nbformat_minor": 2
}
